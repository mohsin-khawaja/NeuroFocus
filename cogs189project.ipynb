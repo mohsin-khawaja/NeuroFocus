{
 "cells": [
  {
   "cell_type": "markdown",
   "metadata": {},
   "source": [
    "# Project COGS 189: EEG-Based Attention State Classification Using Machine Learning\n",
    "\n",
    "\n",
    "Add your names & PIDs here\n",
    "\n",
    "Xavier Lopez A17068366\n",
    "\n",
    "#### Recommended Environment Setup\n",
    "```  conda create --name \"cogs189\" python=3.9   ```\n",
    "\n",
    "``` conda activate cogs189 ```\n",
    "\n",
    "#### Now run the following cell to install the requirements.txt"
   ]
  },
  {
   "cell_type": "code",
   "execution_count": 3,
   "metadata": {},
   "outputs": [],
   "source": [
    "# Install necessary libraries (run only once per session)\n",
    "import os\n",
    "if not os.path.exists(\"requirements_installed.txt\"):\n",
    "    import sys\n",
    "    !{sys.executable} -m pip install -r requirements.txt --quiet\n",
    "    with open(\"requirements_installed.txt\", \"w\") as f:\n",
    "        f.write(\"installed\")"
   ]
  },
  {
   "cell_type": "markdown",
   "metadata": {},
   "source": [
    "#### Test to see if the installation worked by importing the needed libraries"
   ]
  },
  {
   "cell_type": "code",
   "execution_count": 1,
   "metadata": {},
   "outputs": [],
   "source": [
    "import zipfile\n",
    "import os\n",
    "import pickle\n",
    "import numpy as np\n",
    "import pandas as pd\n",
    "import matplotlib.pyplot as plt\n",
    "import seaborn as sns\n",
    "from scipy.signal import welch, butter, lfilter\n",
    "import mne  # EEG processing library"
   ]
  },
  {
   "cell_type": "markdown",
   "metadata": {},
   "source": [
    "#### Proceeding to handling the data"
   ]
  },
  {
   "cell_type": "code",
   "execution_count": 12,
   "metadata": {},
   "outputs": [
    {
     "name": "stdout",
     "output_type": "stream",
     "text": [
      "Extracting files...\n",
      "Extracted files into: /Users/xavier/Library/CloudStorage/GoogleDrive-xlopez@ucsd.edu/My Drive/4th Year/Winter Quarter/COGS189\n",
      "Found 32 EEG data files in data_preprocessed_python.\n"
     ]
    }
   ],
   "source": [
    "zipped_name = \"data_preprocessed_python.zip\"\n",
    "unzipped_folder = \"data_preprocessed_python\"\n",
    "\n",
    "if not os.path.exists(unzipped_folder):\n",
    "    print(\"Extracting files...\")\n",
    "    with zipfile.ZipFile(zipped_name, 'r') as zip_ref:\n",
    "        zip_ref.extractall(os.getcwd())\n",
    "    print(f\"Extracted files into: {os.getcwd()}\")\n",
    "else:\n",
    "    print(\"Files already extracted.\")\n",
    "\n",
    "files = [f for f in os.listdir(unzipped_folder) if f.endswith(\".dat\")]\n",
    "print(f\"Found {len(files)} EEG data files in {unzipped_folder}.\")"
   ]
  },
  {
   "cell_type": "code",
   "execution_count": null,
   "metadata": {},
   "outputs": [],
   "source": []
  }
 ],
 "metadata": {
  "kernelspec": {
   "display_name": "cogs189",
   "language": "python",
   "name": "python3"
  },
  "language_info": {
   "codemirror_mode": {
    "name": "ipython",
    "version": 3
   },
   "file_extension": ".py",
   "mimetype": "text/x-python",
   "name": "python",
   "nbconvert_exporter": "python",
   "pygments_lexer": "ipython3",
   "version": "3.9.21"
  }
 },
 "nbformat": 4,
 "nbformat_minor": 2
}
